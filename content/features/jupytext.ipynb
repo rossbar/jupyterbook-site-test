{
 "cells": [
  {
   "cell_type": "markdown",
   "metadata": {},
   "source": [
    "# Jupytext with Jupyter Book\n",
    "\n",
    "✨**experimental**✨\n",
    "\n",
    "It's also possible to build Jupyter Books using [Jupytext](https://jupytext.readthedocs.io), a tool for\n",
    "two-way conversion between Jupyter Notebooks an text-based versions of a Jupyter Notebook (e.g., `.md` or `.py`).\n",
    "\n",
    "Using Jupytext allows you to store your Jupyter Notebooks as **text files**, which makes them much better for\n",
    "collaboration and \"diffing\" using a tool like Git. The drawbacks are that you no longer keep the outputs with\n",
    "your files, which means building your book with outputs requires running each file at build-time.\n",
    "\n",
    "## This notebook is stored in Jupytext format!\n",
    "\n",
    "For example, the notebook for this page is stored in a Jupytext format. In this case, we've used\n",
    "a markdown file. [You can find the original (text-based) format here](https://github.com/jupyter/jupyter-book/blob/master/jupyter_book/book_template/content/features/jupytext.md).\n",
    "\n",
    "Below we'll show some Python code, which Jupyter Book can execute at build time."
   ]
  },
  {
   "cell_type": "code",
   "execution_count": null,
   "metadata": {},
   "outputs": [],
   "source": [
    "# Import some data\n",
    "import numpy as np\n",
    "import matplotlib.pyplot as plt\n",
    "plt.ion()"
   ]
  },
  {
   "cell_type": "code",
   "execution_count": null,
   "metadata": {},
   "outputs": [],
   "source": [
    "# We'll make a simple plot!\n",
    "data = np.random.randn(2, 100)\n",
    "\n",
    "fig, ax = plt.subplots()\n",
    "ax.scatter(*data, c=data[0], s=500)\n",
    "ax.text(0, 0, \"Jupytext is great!\", fontdict={'size': 40, 'horizontalalignment': 'center'})"
   ]
  },
  {
   "cell_type": "markdown",
   "metadata": {},
   "source": [
    "## Jupytext works with cell tags\n",
    "\n",
    "You can still use cell tags in your Jupytext files by using the format that Jupytext expects.\n",
    "For example, the Python code below will have its code cell hidden:"
   ]
  },
  {
   "cell_type": "code",
   "execution_count": null,
   "metadata": {
    "tags": [
     "hide_input"
    ]
   },
   "outputs": [],
   "source": [
    "# We'll make a simple plot!\n",
    "data = np.random.randn(2, 100)\n",
    "\n",
    "fig, ax = plt.subplots()\n",
    "ax.scatter(*data, c=data[1], s=500, cmap='coolwarm')\n",
    "ax.text(0, 0, \"Jupytext is great!\", fontdict={'size': 40, 'horizontalalignment': 'center'})"
   ]
  },
  {
   "cell_type": "markdown",
   "metadata": {},
   "source": [
    "## Supported Jupytext formats\n",
    "\n",
    "There are [many supported formats in Jupytext](https://jupytext.readthedocs.io/en/latest/formats.html). Jupyter\n",
    "Book works with a subset of common ones:\n",
    "\n",
    "* Markdown files (`.md` or `.markdown`)\n",
    "* Python files meant for Jupytext (`.py` with Sphinx-Gallery or `%%` syntax to break cells)\n",
    "* RMarkdown files (`.Rmd`)"
   ]
  },
  {
   "cell_type": "markdown",
   "metadata": {},
   "source": [
    "## A recommended workflow with Jupytext and notebooks\n",
    "\n",
    "Even if you're storing your content in a text-based file, it's useful to **write your content in notebooks**\n",
    "and convert them to text format before committing them in Git. This allows you to add **tags** to your notebooks\n",
    "that propagate to your Jupytext format. This allows you to use the editing capabilities of a Jupyter interface, but\n",
    "the version-control benefits of a text-based file."
   ]
  }
 ],
 "metadata": {
  "jupytext": {
   "formats": "ipynb,md,Rmd,py:percent",
   "text_representation": {
    "extension": ".md",
    "format_name": "markdown",
    "format_version": "1.1",
    "jupytext_version": "1.2.1"
   }
  },
  "kernelspec": {
   "display_name": "Python 3",
   "language": "python",
   "name": "python3"
  },
  "language_info": {
   "codemirror_mode": {
    "name": "ipython",
    "version": 3
   },
   "file_extension": ".py",
   "mimetype": "text/x-python",
   "name": "python",
   "nbconvert_exporter": "python",
   "pygments_lexer": "ipython3",
   "version": "3.7.3"
  }
 },
 "nbformat": 4,
 "nbformat_minor": 2
}
